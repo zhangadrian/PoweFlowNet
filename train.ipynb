{
 "cells": [
  {
   "cell_type": "code",
   "execution_count": 10,
   "metadata": {},
   "outputs": [],
   "source": [
    "import pickle as pk"
   ]
  },
  {
   "cell_type": "code",
   "execution_count": 11,
   "metadata": {},
   "outputs": [],
   "source": [
    "dataset_type = [\"case14\", \"case118\", \"case6470rte\"]\n",
    "data_type = [\"node_features_x\", \"node_features_y\", \"edge_features\", \"adjacency_matrix\"]\n",
    "dataset_path = \"/Users/zyangzhang/Desktop/codes/PowerAI/codes/PoweFlowNet/datasets/\"\n",
    "\n",
    "data_file_template = \"{}/{}v2_{}.npy\""
   ]
  },
  {
   "cell_type": "code",
   "execution_count": 4,
   "metadata": {},
   "outputs": [],
   "source": []
  },
  {
   "cell_type": "code",
   "execution_count": 12,
   "metadata": {},
   "outputs": [],
   "source": [
    "import numpy as np\n",
    "test_file_path = data_file_template.format(dataset_path, dataset_type[0], data_type[0])\n",
    "data = np.load(test_file_path, allow_pickle=True)"
   ]
  },
  {
   "cell_type": "code",
   "execution_count": 14,
   "metadata": {},
   "outputs": [
    {
     "data": {
      "text/plain": [
       "100000"
      ]
     },
     "execution_count": 14,
     "metadata": {},
     "output_type": "execute_result"
    }
   ],
   "source": [
    "len(data)"
   ]
  },
  {
   "cell_type": "code",
   "execution_count": 16,
   "metadata": {},
   "outputs": [
    {
     "data": {
      "text/plain": [
       "array([[ 1.        ,  2.        ,  1.        ,  0.        ,  0.        ,\n",
       "         0.        ,  0.        ,  0.        ,  0.        ],\n",
       "       [ 2.        ,  1.        ,  1.01404787,  0.        ,  0.19798995,\n",
       "         0.1583975 ,  0.        ,  0.        ,  0.32210646],\n",
       "       [ 3.        ,  1.        ,  0.96167084,  0.        ,  0.37621936,\n",
       "         0.16242719,  0.        ,  0.        ,  0.        ],\n",
       "       [ 4.        ,  2.        ,  1.        ,  0.        ,  0.53779069,\n",
       "        -0.04276157,  0.        ,  0.        ,  0.        ],\n",
       "       [ 5.        ,  2.        ,  1.        ,  0.        ,  0.09370438,\n",
       "         0.01639315,  0.        ,  0.        ,  0.        ],\n",
       "       [ 6.        ,  1.        ,  1.01481007,  0.        ,  0.1273625 ,\n",
       "         0.08788201,  0.        ,  0.        ,  0.        ],\n",
       "       [ 7.        ,  2.        ,  1.        ,  0.        ,  0.        ,\n",
       "         0.        ,  0.        ,  0.        ,  0.        ],\n",
       "       [ 8.        ,  1.        ,  0.98925804,  0.        ,  0.        ,\n",
       "         0.        ,  0.        ,  0.        ,  0.        ],\n",
       "       [ 9.        ,  2.        ,  1.        ,  0.        ,  0.30431546,\n",
       "         0.12821997,  0.        ,  0.        ,  0.        ],\n",
       "       [10.        ,  2.        ,  1.        ,  0.        ,  0.09619074,\n",
       "         0.07257286,  0.        ,  0.        ,  0.        ],\n",
       "       [11.        ,  2.        ,  1.        ,  0.        ,  0.04045644,\n",
       "         0.02015166,  0.        ,  0.        ,  0.        ],\n",
       "       [12.        ,  2.        ,  1.        ,  0.        ,  0.05146387,\n",
       "         0.01495175,  0.        ,  0.        ,  0.        ],\n",
       "       [13.        ,  2.        ,  1.        ,  0.        ,  0.12107712,\n",
       "         0.05726848,  0.        ,  0.        ,  0.        ],\n",
       "       [14.        ,  2.        ,  1.        ,  0.        ,  0.14051581,\n",
       "         0.04836303,  0.        ,  0.        ,  0.        ]])"
      ]
     },
     "execution_count": 16,
     "metadata": {},
     "output_type": "execute_result"
    }
   ],
   "source": []
  },
  {
   "cell_type": "code",
   "execution_count": null,
   "metadata": {},
   "outputs": [],
   "source": []
  }
 ],
 "metadata": {
  "kernelspec": {
   "display_name": ".venv",
   "language": "python",
   "name": "python3"
  },
  "language_info": {
   "codemirror_mode": {
    "name": "ipython",
    "version": 3
   },
   "file_extension": ".py",
   "mimetype": "text/x-python",
   "name": "python",
   "nbconvert_exporter": "python",
   "pygments_lexer": "ipython3",
   "version": "3.9.6"
  }
 },
 "nbformat": 4,
 "nbformat_minor": 2
}
